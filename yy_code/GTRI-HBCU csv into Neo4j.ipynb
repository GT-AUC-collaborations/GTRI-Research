{
    "cells": [
        {
            "cell_type": "markdown",
            "metadata": {},
            "source": [
                "# Load Queries Notebook"
            ]
        },
        {
            "cell_type": "code",
            "execution_count": 1,
            "metadata": {},
            "outputs": [],
            "source": [
                "# Import necessary packages \n",
                "from neo4j import GraphDatabase\n",
                "import time\n",
                "from datetime import timedelta as td"
            ]
        },
        {
            "cell_type": "code",
            "execution_count": 18,
            "metadata": {},
            "outputs": [],
            "source": [
                "# Test notebook run time\n",
                "start_time = time.time()"
            ]
        },
        {
            "cell_type": "code",
            "execution_count": 19,
            "metadata": {},
            "outputs": [],
            "source": [
                "# Instantiate driver object\n",
                "driver = GraphDatabase.driver(\"bolt://localhost:7687\", auth=(\"neo4j\", \"yxie367\"))"
            ]
        },
        {
            "cell_type": "markdown",
            "metadata": {},
            "source": [
                "#### Clearing database"
            ]
        },
        {
            "cell_type": "code",
            "execution_count": 20,
            "metadata": {},
            "outputs": [],
            "source": [
                "with driver.session() as session:\n",
                "    session.run('MATCH (n) DETACH DELETE n')   # Uncomment this line to delete everything from the database\n",
                "    session.run('DROP CONSTRAINT `orgNameConstraint` IF EXISTS')\n",
                "    session.run('CREATE CONSTRAINT orgNameConstraint ON (org:Organization) ASSERT org.name IS UNIQUE')\n"
            ]
        },
        {
            "cell_type": "markdown",
            "metadata": {},
            "source": [
                "#### Organization"
            ]
        },
        {
            "cell_type": "code",
            "execution_count": 21,
            "metadata": {},
            "outputs": [],
            "source": [
                "# Creates organization nodes from list of unique institutions\n",
                "with driver.session() as session:\n",
                "    session.run('''\n",
                "    LOAD CSV WITH HEADERS FROM \"file:///master_2020_affiliations.csv\" AS row\n",
                "    WITH row WHERE NOT row.organization IS null\n",
                "    MERGE (o:Organization {orgName:row.organization})\n",
                "        RETURN count(o);\n",
                "    ''')"
            ]
        },
        {
            "cell_type": "markdown",
            "metadata": {},
            "source": [
                "#### Authors"
            ]
        },
        {
            "cell_type": "code",
            "execution_count": 22,
            "metadata": {},
            "outputs": [],
            "source": [
                "# Create nodes for people from Web of Science Data\n",
                "with driver.session() as session:\n",
                "    session.run('''\n",
                "    LOAD CSV WITH HEADERS FROM 'file:///master_2020_authors.csv' AS row\n",
                "    MERGE (p:Person {fullName:row.wosFullName})\n",
                "    SET p.firstName = row.wosFirstName,\n",
                "    p.lastName = row.wosLastName, \n",
                "    p.Email = row.emailAddress\n",
                "    ''')"
            ]
        },
        {
            "cell_type": "markdown",
            "metadata": {},
            "source": [
                "#### Person AFFILIATED_WITH Organization"
            ]
        },
        {
            "cell_type": "code",
            "execution_count": 23,
            "metadata": {},
            "outputs": [],
            "source": [
                "# Create relationship Person AFFILIATED_WITH Organization for Orcid\n",
                "with driver.session() as session:\n",
                "    session.run('''\n",
                "    LOAD CSV WITH HEADERS FROM 'file:///master_2020_affiliations.csv' AS row \n",
                "    WITH row['organization'] as orgName, row[\"fullName\"] as full\n",
                "    MATCH (p:Person {fullName:full})\n",
                "    MATCH (o:Organization {orgName:orgName})\n",
                "    MERGE (p)-[aw:AFFILIATED_WITH]->(o)\n",
                "    ''')"
            ]
        },
        {
            "cell_type": "markdown",
            "metadata": {},
            "source": [
                "#### Publications"
            ]
        },
        {
            "cell_type": "code",
            "execution_count": 24,
            "metadata": {},
            "outputs": [],
            "source": [
                "# Create nodes for Publications from Web of Science data\n",
                "with driver.session() as session:\n",
                "    session.run('''\n",
                "    LOAD CSV WITH HEADERS FROM 'file:///master_2020_articles.csv' AS row \n",
                "    WITH row['title'] as title, row[\"date\"] as date, row[\"docID\"] as docID, row[\"abstract\"] as abstract\n",
                "    MERGE (pu:Publication {docID:docID})\n",
                "    SET pu.title = title, pu.date = date, pu.abstract = abstract\n",
                "    ''')"
            ]
        },
        {
            "cell_type": "markdown",
            "metadata": {},
            "source": [
                "#### Person CO_AUTHOR of PUBLICATION"
            ]
        },
        {
            "cell_type": "code",
            "execution_count": 25,
            "metadata": {},
            "outputs": [],
            "source": [
                "# Creates Perosn COAUTHOR_OF Publication relationship from Web of Science data\n",
                "with driver.session() as session:\n",
                "    session.run('''\n",
                "    LOAD CSV WITH HEADERS FROM 'file:///master_2020_authors.csv' AS row \n",
                "    MATCH (p:Person {fullName:row.wosFullName})\n",
                "    MATCH (pu:Publication {docID:row.docID})\n",
                "    MERGE (p)-[ca:COAUTHOR_OF]->(pu)\n",
                "    ''')"
            ]
        },
        {
            "cell_type": "markdown",
            "metadata": {},
            "source": [
                "#### Research Keyword Topic"
            ]
        },
        {
            "cell_type": "code",
            "execution_count": 26,
            "metadata": {},
            "outputs": [],
            "source": [
                "# Creating  topic nodes from MSI Research data (Toya)\n",
                "with driver.session() as session:\n",
                "    session.run('''\n",
                "    LOAD CSV WITH HEADERS FROM 'file:///master_2020_keywords.csv' AS row\n",
                "    WITH row WHERE NOT row.keyword IS null\n",
                "    MERGE (t:Topic {name:row.keyword})\n",
                "    ''')"
            ]
        },
        {
            "cell_type": "markdown",
            "metadata": {},
            "source": [
                "#### Publication RELATED_TO topic"
            ]
        },
        {
            "cell_type": "code",
            "execution_count": 27,
            "metadata": {},
            "outputs": [],
            "source": [
                "# Creating Publication RELATED_TO Topic from ORCID Data\n",
                "with driver.session() as session:\n",
                "    session.run('''\n",
                "    LOAD CSV WITH HEADERS FROM 'file:///master_2020_keywords.csv' AS row \n",
                "    MATCH (pu:Publication {docID:row.docID})\n",
                "    MATCH (t:Topic {name:row.keyword})\n",
                "    MERGE (pu)-[r:RELATED_TO]->(t)\n",
                "    RETURN count(r)\n",
                "    ''')"
            ]
        },
        {
            "cell_type": "markdown",
            "metadata": {},
            "source": [
                "#### Organization HAS_CAPABILITIES_IN topic"
            ]
        },
        {
            "cell_type": "code",
            "execution_count": 28,
            "metadata": {},
            "outputs": [],
            "source": [
                "# Creates relationship between Organization and Topic when Person AFFILATED_WITH organization is COAUTHOR_OF a Publication with said Topic\n",
                "with driver.session() as session:\n",
                "    session.run('''\n",
                "    MATCH (o1:Organization)-[aff1:AFFILIATED_WITH]-(p1:Person)-[co1:COAUTHOR_OF]-(pub1:Publication)-[re:RELATED_TO]-(t:Topic)\n",
                "    MERGE(o1)-[i:HAS_CAPABILITIES_IN {topic:t.name}]->(t)\n",
                "    ''')"
            ]
        },
        {
            "cell_type": "markdown",
            "metadata": {},
            "source": [
                "#### Person \"INTERESTED_IN\" Topic"
            ]
        },
        {
            "cell_type": "code",
            "execution_count": 29,
            "metadata": {},
            "outputs": [],
            "source": [
                "# Creates relationship between Person and Topic when Person COAUTHOR_OF a Publication with said Topic\n",
                "with driver.session() as session:\n",
                "    session.run('''\n",
                "    MATCH (p1:Person)-[co1:COAUTHOR_OF]-(pub1:Publication)-[re:RELATED_TO]-(t:Topic)\n",
                "    MERGE(p1)-[i:INTERESTED_IN {topic:t.name}]->(t)\n",
                "    ''')"
            ]
        },
        {
            "cell_type": "code",
            "execution_count": 30,
            "metadata": {},
            "outputs": [
                {
                    "name": "stdout",
                    "output_type": "stream",
                    "text": [
                        "Total runtime: 0:00:06\n"
                    ]
                }
            ],
            "source": [
                "time_took = time.time() - start_time\n",
                "print(f\"Total runtime: {td(seconds=round(time_took))}\")"
            ]
        }
    ],
    "metadata": {
        "interpreter": {
            "hash": "316d646545034125446dcec8895f96f34fa08d61d6a07f882c2f8437f5a4480c"
        },
        "kernelspec": {
            "display_name": "Python 3.8.5 64-bit ('base': conda)",
            "name": "python3"
        },
        "language_info": {
            "codemirror_mode": {
                "name": "ipython",
                "version": 3
            },
            "file_extension": ".py",
            "mimetype": "text/x-python",
            "name": "python",
            "nbconvert_exporter": "python",
            "pygments_lexer": "ipython3",
            "version": "3.8.2"
        },
        "orig_nbformat": 4
    },
    "nbformat": 4,
    "nbformat_minor": 2
}
