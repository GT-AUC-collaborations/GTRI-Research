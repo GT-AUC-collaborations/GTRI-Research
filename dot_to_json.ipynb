{
 "cells": [
  {
   "cell_type": "markdown",
   "metadata": {},
   "source": [
    "# dot to json file"
   ]
  },
  {
   "cell_type": "markdown",
   "metadata": {},
   "source": [
    "/// signifies changes to make where appropriate"
   ]
  },
  {
   "cell_type": "code",
   "execution_count": 1,
   "metadata": {},
   "outputs": [],
   "source": [
    "# imports\n",
    "import networkx as nx\n",
    "from networkx.readwrite import json_graph\n",
    "import json"
   ]
  },
  {
   "cell_type": "markdown",
   "metadata": {},
   "source": [
    "### Creating json file from dot file"
   ]
  },
  {
   "cell_type": "code",
   "execution_count": null,
   "metadata": {},
   "outputs": [],
   "source": [
    "# /// change input dot file here:\n",
    "dot_input_name = \"topic_connection.dot\"\n",
    "# /// change json file output name \n",
    "json_output_name = \"topic_connection.json\"\n",
    "\n",
    "## Takes dot file and dumps into a json file\n",
    "def dot_to_json(dot_file):\n",
    "  dot_graph = nx.nx_pydot.read_dot(dot_file)\n",
    "  out_file = open(json_output_name, \"w\")\n",
    "  json.dump(json_graph.node_link_data(dot_graph),out_file)\n",
    "\n",
    "dot_to_json(dot_input_name)"
   ]
  },
  {
   "cell_type": "markdown",
   "metadata": {},
   "source": [
    "### Cleans and rewrites json file into 2 seperate files"
   ]
  },
  {
   "cell_type": "markdown",
   "metadata": {},
   "source": [
    "#### Topic node data"
   ]
  },
  {
   "cell_type": "code",
   "execution_count": null,
   "metadata": {},
   "outputs": [],
   "source": [
    "# /// change input json file here:\n",
    "json_input_name = 'topic_connection.json'\n",
    "input_file = open(json_input_name, 'r')\n",
    "# /// change node output json files here:\n",
    "node_output_file_name = 'topic_data_cleaned.json'\n",
    "node_output_file = open(node_output_file_name, 'w')\n",
    "json_decode = json.load(input_file)\n",
    "\n",
    "# Creates dictionary for each json object\n",
    "node_result = []\n",
    "for item in json_decode.get('nodes'):\n",
    "  node_dict = {}\n",
    "  node_dict['id'] = item.get('id')\n",
    "  node_dict['label'] = item.get('label')\n",
    "  node_dict['weight'] = item.get(\"weight\")\n",
    "  node_result.append(node_dict)\n",
    "\n",
    "# Creates a new, cleaned json file\n",
    "json.dump(node_result, node_output_file)"
   ]
  },
  {
   "cell_type": "markdown",
   "metadata": {},
   "source": [
    "#### Topic - Topic Connection"
   ]
  },
  {
   "cell_type": "code",
   "execution_count": null,
   "metadata": {},
   "outputs": [],
   "source": [
    "# /// change node output json files here:\n",
    "links_output_file_name = 'topic_connection_cleaned.json'\n",
    "links_output_file = open(links_output_file_name, 'w')\n",
    "\n",
    "# Creates dictionary for each json object\n",
    "link_result = []\n",
    "for item in json_decode.get('links'):\n",
    "  link_dict = {}\n",
    "  link_dict[\"weight\"] = item.get(\"weight\")\n",
    "  link_dict[\"source\"] = item.get(\"source\")\n",
    "  link_dict[\"target\"] = item.get(\"target\")\n",
    "  link_result.append(link_dict)\n",
    "\n",
    "# Creates a new, cleaned json file\n",
    "json.dump(link_result, links_output_file)"
   ]
  }
 ],
 "metadata": {
  "interpreter": {
   "hash": "b3ba2566441a7c06988d0923437866b63cedc61552a5af99d1f4fb67d367b25f"
  },
  "kernelspec": {
   "display_name": "Python 3.8.8 64-bit (conda)",
   "language": "python",
   "name": "python3"
  },
  "language_info": {
   "codemirror_mode": {
    "name": "ipython",
    "version": 3
   },
   "file_extension": ".py",
   "mimetype": "text/x-python",
   "name": "python",
   "nbconvert_exporter": "python",
   "pygments_lexer": "ipython3",
   "version": "3.8.8"
  },
  "orig_nbformat": 4
 },
 "nbformat": 4,
 "nbformat_minor": 2
}
